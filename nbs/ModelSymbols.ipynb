{
 "cells": [
  {
   "cell_type": "code",
   "execution_count": 7,
   "metadata": {},
   "outputs": [],
   "source": [
    "import torch\n",
    "from model import Base, BaselineModel\n",
    "from torch import nn\n",
    "from typing import Union, Iterable\n",
    "from data import Data, train_test_split_exact\n",
    "from collections import OrderedDict\n",
    "import tqdm"
   ]
  },
  {
   "cell_type": "code",
   "execution_count": 9,
   "metadata": {},
   "outputs": [],
   "source": [
    "class BaselineModel(Base):\n",
    "    def __init__(\n",
    "        self, vocab_size: Union[int, Iterable], hidden_dim: int, output_dim: int, dropout: float = 0.\n",
    "    ):\n",
    "        \"\"\"\n",
    "        :param vocab_size: number of tokens in the vocabulary,\n",
    "          or an Iterable of vocab sizes for each input. One embedding layer will be created for each input.\n",
    "        :param hidden_dim: dimension of the hidden layer\n",
    "        :param output_dim: dimension of the output layer\n",
    "        \"\"\"\n",
    "\n",
    "        super().__init__(vocab_size, hidden_dim)\n",
    "\n",
    "        self.nonlinear = nn.Sequential(\n",
    "            nn.Linear(3 * hidden_dim, hidden_dim),\n",
    "            nn.SiLU(),\n",
    "            nn.Linear(hidden_dim, hidden_dim),\n",
    "            nn.SiLU(),\n",
    "            # ResidualBlock(hidden_dim, dropout=dropout),\n",
    "            # nn.SiLU(),\n",
    "            # ResidualBlock(hidden_dim, dropout=dropout),\n",
    "            # nn.SiLU(),\n",
    "            nn.Linear(hidden_dim, hidden_dim),\n",
    "            nn.SiLU(),\n",
    "        )\n",
    "        self.readout = nn.Linear(hidden_dim, output_dim)\n",
    "\n",
    "    def forward_with_embeddings(self, x, embs):  # embs: [ batch_size, 2 * hidden_dim ]\n",
    "        x = self.embed_input(x, embs)\n",
    "        x = self.nonlinear(x)  # [ batch_size, hidden_dim ]\n",
    "        return self.readout(x)  # [ batch_size, output_dim ]"
   ]
  },
  {
   "cell_type": "code",
   "execution_count": 30,
   "metadata": {},
   "outputs": [
    {
     "name": "stdout",
     "output_type": "stream",
     "text": [
      "T:  loss |  acc  || V:  loss |  acc\n"
     ]
    },
    {
     "name": "stderr",
     "output_type": "stream",
     "text": [
      "  0%|          | 0/20000 [00:00<?, ?it/s]\n"
     ]
    },
    {
     "ename": "IndexError",
     "evalue": "The shape of the mask [8427] at index 0 does not match the shape of the indexed tensor [6741] at index 0",
     "output_type": "error",
     "traceback": [
      "\u001b[0;31m---------------------------------------------------------------------------\u001b[0m",
      "\u001b[0;31mIndexError\u001b[0m                                Traceback (most recent call last)",
      "Cell \u001b[0;32mIn[30], line 55\u001b[0m\n\u001b[1;32m     53\u001b[0m optimizer\u001b[39m.\u001b[39mstep()\n\u001b[1;32m     54\u001b[0m acc_train \u001b[39m=\u001b[39m accuracy(out, y[mask_train]\u001b[39m.\u001b[39mlong())\n\u001b[0;32m---> 55\u001b[0m task_accs_train \u001b[39m=\u001b[39m get_task_accs(out, y[mask_train]\u001b[39m.\u001b[39;49mlong())\n\u001b[1;32m     57\u001b[0m model\u001b[39m.\u001b[39meval()\n\u001b[1;32m     58\u001b[0m out \u001b[39m=\u001b[39m model(X[mask_test])\n",
      "Cell \u001b[0;32mIn[30], line 35\u001b[0m, in \u001b[0;36mget_task_accs\u001b[0;34m(out, y)\u001b[0m\n\u001b[1;32m     33\u001b[0m \u001b[39mfor\u001b[39;00m op \u001b[39min\u001b[39;00m operations:\n\u001b[1;32m     34\u001b[0m     task_mask \u001b[39m=\u001b[39m X[:, \u001b[39m2\u001b[39m] \u001b[39m==\u001b[39m operations\u001b[39m.\u001b[39mindex(op)\n\u001b[0;32m---> 35\u001b[0m     task_accs[op] \u001b[39m=\u001b[39m accuracy(out, y\u001b[39m.\u001b[39;49mlong(), task_mask\u001b[39m=\u001b[39;49mtask_mask)\n\u001b[1;32m     36\u001b[0m \u001b[39mreturn\u001b[39;00m task_accs\n",
      "Cell \u001b[0;32mIn[30], line 29\u001b[0m, in \u001b[0;36maccuracy\u001b[0;34m(out, y, task_mask)\u001b[0m\n\u001b[1;32m     27\u001b[0m     \u001b[39mreturn\u001b[39;00m (out\u001b[39m.\u001b[39margmax(dim\u001b[39m=\u001b[39m\u001b[39m1\u001b[39m) \u001b[39m==\u001b[39m y)\u001b[39m.\u001b[39mfloat()\u001b[39m.\u001b[39mmean() \u001b[39m*\u001b[39m \u001b[39m100\u001b[39m\n\u001b[1;32m     28\u001b[0m \u001b[39melse\u001b[39;00m:\n\u001b[0;32m---> 29\u001b[0m     \u001b[39mreturn\u001b[39;00m (out\u001b[39m.\u001b[39;49margmax(dim\u001b[39m=\u001b[39;49m\u001b[39m1\u001b[39;49m)[task_mask] \u001b[39m==\u001b[39m y[task_mask])\u001b[39m.\u001b[39mfloat()\u001b[39m.\u001b[39mmean() \u001b[39m*\u001b[39m \u001b[39m100\u001b[39m\n",
      "\u001b[0;31mIndexError\u001b[0m: The shape of the mask [8427] at index 0 does not match the shape of the indexed tensor [6741] at index 0"
     ]
    }
   ],
   "source": [
    "torch.manual_seed(0)\n",
    "\n",
    "operations = [\"add\", \"subtract\", \"multiply\"]\n",
    "P = 53\n",
    "X = torch.cartesian_prod(torch.arange(P), torch.arange(P), torch.arange(len(operations)))\n",
    "y = torch.zeros(len(X))\n",
    "# modular arithemtic\n",
    "for i, (a, b, op) in enumerate(X):\n",
    "    if operations[op] == \"add\":\n",
    "        y[i] = (a + b) % P\n",
    "    elif operations[op] == \"subtract\":\n",
    "        y[i] = (a - b) % P\n",
    "    elif operations[op] == \"multiply\":\n",
    "        y[i] = (a * b) % P\n",
    "\n",
    "def train_test_split_exact(X, y=None, train_frac=0.8, seed=0):\n",
    "    torch.manual_seed(seed)\n",
    "    train_mask = torch.ones(X.shape[0], dtype=torch.bool)\n",
    "    train_mask[int(train_frac * X.shape[0]) :] = False\n",
    "    train_mask = train_mask[torch.randperm(X.shape[0])]\n",
    "    test_mask = ~train_mask\n",
    "    return train_mask, test_mask\n",
    "\n",
    "def accuracy(out, y, task_mask=None):\n",
    "    with torch.no_grad():\n",
    "        if task_mask is None:\n",
    "            return (out.argmax(dim=1) == y).float().mean() * 100\n",
    "        else:\n",
    "            return (out.argmax(dim=1)[task_mask] == y[task_mask]).float().mean() * 100\n",
    "\n",
    "def get_task_accs(out, y):\n",
    "    task_accs = {}\n",
    "    for op in operations:\n",
    "        task_mask = X[:, 2] == operations.index(op)\n",
    "        task_accs[op] = accuracy(out, y.long(), task_mask=task_mask)\n",
    "    return task_accs\n",
    "\n",
    "\n",
    "\n",
    "model = BaselineModel(vocab_size=(P + len(operations)), hidden_dim=64, output_dim=P)\n",
    "optimizer = torch.optim.Adam(model.parameters(), lr=1e-3, weight_decay=1e-4)\n",
    "criterion = nn.CrossEntropyLoss()\n",
    "mask_train, mask_test = train_test_split_exact(X, y, train_frac=0.8, seed=0)\n",
    "\n",
    "print(\"T:  loss |  acc  || V:  loss |  acc\")\n",
    "bar = tqdm.trange(20000)\n",
    "for epoch in bar:\n",
    "    model.train()\n",
    "    optimizer.zero_grad()\n",
    "    out = model(X[mask_train])\n",
    "    loss_train = criterion(out, y[mask_train].long())\n",
    "    loss_train.backward()\n",
    "    optimizer.step()\n",
    "    acc_train = accuracy(out, y[mask_train].long())\n",
    "    task_accs_train = get_task_accs(out, y[mask_train].long())\n",
    "    \n",
    "    model.eval()\n",
    "    out = model(X[mask_test])\n",
    "    loss_test = criterion(out, y[mask_test].long())\n",
    "    acc_test = accuracy(out, y[mask_test].long())\n",
    "    msg = f\"T: {loss_train:.3f} | {acc_train:.3f} || V: {loss_test:.3f} | {acc_test:.3f}\"\n",
    "    bar.set_description_str(msg)\n",
    "    task_accs_test = get_task_accs(out, y[mask_test].long())\n",
    "    postfix = \" | \".join([f\"{op}: {acc:.2f}\" for op, acc in task_accs_test.items()])\n",
    "    bar.set_postfix_str(postfix)\n"
   ]
  },
  {
   "cell_type": "code",
   "execution_count": null,
   "metadata": {},
   "outputs": [],
   "source": []
  }
 ],
 "metadata": {
  "kernelspec": {
   "display_name": "sandbox",
   "language": "python",
   "name": "python3"
  },
  "language_info": {
   "codemirror_mode": {
    "name": "ipython",
    "version": 3
   },
   "file_extension": ".py",
   "mimetype": "text/x-python",
   "name": "python",
   "nbconvert_exporter": "python",
   "pygments_lexer": "ipython3",
   "version": "3.10.9"
  },
  "orig_nbformat": 4
 },
 "nbformat": 4,
 "nbformat_minor": 2
}
